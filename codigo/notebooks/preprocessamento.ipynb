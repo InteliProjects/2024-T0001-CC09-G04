{
  "cells": [
    {
      "cell_type": "markdown",
      "metadata": {
        "id": "Oozh9M1ZuEYS"
      },
      "source": [
        "# Extração e tratamento dos dados"
      ]
    },
    {
      "cell_type": "markdown",
      "metadata": {
        "id": "hCMbOWZC0qFT"
      },
      "source": [
        "## Conexão com o drive e extração das tabelas"
      ]
    },
    {
      "cell_type": "code",
      "execution_count": null,
      "metadata": {
        "colab": {
          "base_uri": "https://localhost:8080/"
        },
        "id": "9AadxAbztnlK",
        "outputId": "35f2b191-d44f-4a18-9ec4-37c6b0f747a1"
      },
      "outputs": [
        {
          "output_type": "stream",
          "name": "stdout",
          "text": [
            "Mounted at /content/drive\n"
          ]
        }
      ],
      "source": [
        "from google.colab import drive\n",
        "drive.mount('/content/drive')"
      ]
    },
    {
      "cell_type": "code",
      "execution_count": null,
      "metadata": {
        "colab": {
          "base_uri": "https://localhost:8080/"
        },
        "id": "wMsAg3ERuK4G",
        "outputId": "885bcc62-ce79-4e96-f2ac-8ff5a1eb22c9"
      },
      "outputs": [
        {
          "output_type": "stream",
          "name": "stdout",
          "text": [
            "Collecting pyxlsb\n",
            "  Downloading pyxlsb-1.0.10-py2.py3-none-any.whl (23 kB)\n",
            "Installing collected packages: pyxlsb\n",
            "Successfully installed pyxlsb-1.0.10\n"
          ]
        }
      ],
      "source": [
        "!pip3 install pyxlsb"
      ]
    },
    {
      "cell_type": "code",
      "execution_count": null,
      "metadata": {
        "id": "xLtaxzVUuNjE"
      },
      "outputs": [],
      "source": [
        "import pyxlsb\n",
        "import pandas as pd;\n",
        "import numpy as np;\n",
        "import seaborn as sns; sns.set();\n",
        "import matplotlib.pyplot as plt;\n",
        "import plotly.express as px;\n",
        "from datetime import datetime\n",
        "\n",
        "df_compra2022 = pd.read_excel('/content/drive/Shareddrives/grupo4/dados/base2022_compra.xlsb', engine='pyxlsb')\n",
        "df_compra2023_1 = pd.read_excel('/content/drive/Shareddrives/grupo4/dados/base2023_compra.xlsb', engine='pyxlsb')\n",
        "df_compra2023_2 = pd.read_excel('/content/drive/Shareddrives/grupo4/dados/base2023_compra_2.xlsb', engine='pyxlsb')\n",
        "df_venda2022 = pd.read_excel('/content/drive/Shareddrives/grupo4/dados/base2022_venda.xlsb', engine='pyxlsb')\n",
        "df_venda2023 = pd.read_excel('/content/drive/Shareddrives/grupo4/dados/base2023_venda.xlsb', engine='pyxlsb')\n"
      ]
    },
    {
      "cell_type": "markdown",
      "metadata": {
        "id": "4ZWLCsDgvWGf"
      },
      "source": [
        "## Renomeação de colunas:"
      ]
    },
    {
      "cell_type": "code",
      "execution_count": null,
      "metadata": {
        "id": "N1UAiuRQuQNi"
      },
      "outputs": [],
      "source": [
        "df_compra2022 = df_compra2022.rename(columns={'Dt. Liquidação': 'Vencimento'})\n",
        "df_compra2023_1 = df_compra2023_1.rename(columns={'Dt. Liquidação': 'Vencimento'})\n"
      ]
    },
    {
      "cell_type": "markdown",
      "metadata": {
        "id": "pxbwSVBzvdKB"
      },
      "source": [
        "## Converter para formato Dia, Mês e Ano"
      ]
    },
    {
      "cell_type": "code",
      "execution_count": null,
      "metadata": {
        "colab": {
          "base_uri": "https://localhost:8080/"
        },
        "id": "I1N1nUZtwWJe",
        "outputId": "7c2fb95d-a619-4d9d-ddff-90dba7c7fb9f"
      },
      "outputs": [
        {
          "output_type": "execute_result",
          "data": {
            "text/plain": [
              "Vencimento\n",
              "2022-01-04    565319\n",
              "Name: count, dtype: int64"
            ]
          },
          "metadata": {},
          "execution_count": 5
        }
      ],
      "source": [
        "def converter_data(data):\n",
        "    try:\n",
        "        return pd.to_datetime(data, format='%Y-%m-%d')\n",
        "    except ValueError:\n",
        "        try:\n",
        "            return pd.to_datetime(data, format='%d/%m/%Y')\n",
        "        except ValueError:\n",
        "            return None\n",
        "\n",
        "df_compra2022['Dt. Operação'] = df_compra2022['Dt. Operação'].apply(converter_data).dt.date\n",
        "df_compra2022['Vencimento'] = pd.to_datetime(df_compra2022['Vencimento']).dt.date\n",
        "df_compra2022['Vencimento'] = pd.to_datetime(df_compra2022['Vencimento'], format='%Y-%d-%m')\n",
        "df_compra2022['Vencimento'].value_counts()\n"
      ]
    },
    {
      "cell_type": "code",
      "execution_count": null,
      "metadata": {
        "id": "FfWeUKPFxmLd"
      },
      "outputs": [],
      "source": [
        "df_compra2023_1['Dt. Operação'] = pd.to_datetime(df_compra2023_1['Dt. Operação'], unit='D', origin='1899-12-30')\n",
        "df_compra2023_1['Vencimento'] = pd.to_datetime(df_compra2023_1['Vencimento'], unit='D', origin='1899-12-30')"
      ]
    },
    {
      "cell_type": "code",
      "execution_count": null,
      "metadata": {
        "colab": {
          "base_uri": "https://localhost:8080/"
        },
        "id": "pK9zTvjswpwy",
        "outputId": "e45edcf9-44cd-4087-9051-ad9d7bbe60e7"
      },
      "outputs": [
        {
          "output_type": "stream",
          "name": "stderr",
          "text": [
            "<ipython-input-7-cf4525965571>:5: SettingWithCopyWarning: \n",
            "A value is trying to be set on a copy of a slice from a DataFrame.\n",
            "Try using .loc[row_indexer,col_indexer] = value instead\n",
            "\n",
            "See the caveats in the documentation: https://pandas.pydata.org/pandas-docs/stable/user_guide/indexing.html#returning-a-view-versus-a-copy\n",
            "  valores_numericos['Vencimento'] = valores_numericos['Vencimento'].astype(int)\n"
          ]
        }
      ],
      "source": [
        "valores_numericos = df_compra2023_2[df_compra2023_2['Vencimento'].apply(lambda x: isinstance(x, int))]\n",
        "valores_numericos = df_compra2023_2[df_compra2023_2['Vencimento'].apply(lambda x: str(x).isdigit())]\n",
        "\n",
        "# Convertendo os valores para inteiros\n",
        "valores_numericos['Vencimento'] = valores_numericos['Vencimento'].astype(int)\n"
      ]
    },
    {
      "cell_type": "code",
      "execution_count": null,
      "metadata": {
        "colab": {
          "base_uri": "https://localhost:8080/"
        },
        "id": "wBTn_B27xrMw",
        "outputId": "492207ac-0903-4d74-d663-e365477962d9"
      },
      "outputs": [
        {
          "output_type": "stream",
          "name": "stderr",
          "text": [
            "<ipython-input-8-b06d48119250>:2: UserWarning: Parsing dates in %d/%m/%Y format when dayfirst=False (the default) was specified. Pass `dayfirst=True` or specify a format to silence this warning.\n",
            "  df_compra2023_2['Vencimento'] = pd.to_datetime(df_compra2023_2['Vencimento']).dt.date\n"
          ]
        }
      ],
      "source": [
        "df_compra2023_2 = df_compra2023_2.drop(index=valores_numericos.index)\n",
        "df_compra2023_2['Vencimento'] = pd.to_datetime(df_compra2023_2['Vencimento']).dt.date\n",
        "valores_numericos['Vencimento'] = pd.to_datetime(valores_numericos['Vencimento'], unit='D', origin='1899-12')"
      ]
    },
    {
      "cell_type": "code",
      "execution_count": null,
      "metadata": {
        "id": "jJ-AZEFQx6cG"
      },
      "outputs": [],
      "source": [
        "df_compra2023_2 = pd.concat([df_compra2023_2, valores_numericos])\n",
        "df_compra2023_2['Dt. Operação'] = df_compra2023_2['Dt. Operação'].apply(converter_data).dt.date\n",
        "df_compra2023_2['Vencimento'] = pd.to_datetime(df_compra2023_2['Vencimento']).dt.date"
      ]
    },
    {
      "cell_type": "markdown",
      "metadata": {
        "id": "JlSJNN1kyGZ3"
      },
      "source": [
        "## União de tabelas"
      ]
    },
    {
      "cell_type": "code",
      "execution_count": null,
      "metadata": {
        "id": "wlkBgzfHyJu-"
      },
      "outputs": [],
      "source": [
        "df_compra = pd.concat([df_compra2022, df_compra2023_1, df_compra2023_2])"
      ]
    },
    {
      "cell_type": "code",
      "execution_count": null,
      "metadata": {
        "colab": {
          "base_uri": "https://localhost:8080/",
          "height": 206
        },
        "id": "thJ-fo0-zNeg",
        "outputId": "d3582584-670e-4115-bb54-396c4ce2a261"
      },
      "outputs": [
        {
          "data": {
            "application/vnd.google.colaboratory.intrinsic+json": {
              "type": "dataframe",
              "variable_name": "df_compra"
            },
            "text/html": [
              "\n",
              "  <div id=\"df-0be11d90-4024-43c7-a818-8e6a0e62ea93\" class=\"colab-df-container\">\n",
              "    <div>\n",
              "<style scoped>\n",
              "    .dataframe tbody tr th:only-of-type {\n",
              "        vertical-align: middle;\n",
              "    }\n",
              "\n",
              "    .dataframe tbody tr th {\n",
              "        vertical-align: top;\n",
              "    }\n",
              "\n",
              "    .dataframe thead th {\n",
              "        text-align: right;\n",
              "    }\n",
              "</style>\n",
              "<table border=\"1\" class=\"dataframe\">\n",
              "  <thead>\n",
              "    <tr style=\"text-align: right;\">\n",
              "      <th></th>\n",
              "      <th>Cód. Cliente</th>\n",
              "      <th>Dt. Operação</th>\n",
              "      <th>Tipo Operação</th>\n",
              "      <th>Cód. Título</th>\n",
              "      <th>Cód. Corretora</th>\n",
              "      <th>Quantidade</th>\n",
              "      <th>Preço</th>\n",
              "      <th>Valor Líquido</th>\n",
              "      <th>Vencimento</th>\n",
              "      <th>Tipo</th>\n",
              "    </tr>\n",
              "  </thead>\n",
              "  <tbody>\n",
              "    <tr>\n",
              "      <th>0</th>\n",
              "      <td>Cliente 10</td>\n",
              "      <td>2022-04-01</td>\n",
              "      <td>C</td>\n",
              "      <td>ABCB4</td>\n",
              "      <td>STDE</td>\n",
              "      <td>1236</td>\n",
              "      <td>15.560009</td>\n",
              "      <td>-19232.170609</td>\n",
              "      <td>2022-04-01 00:00:00</td>\n",
              "      <td>AV</td>\n",
              "    </tr>\n",
              "    <tr>\n",
              "      <th>1</th>\n",
              "      <td>Cliente 10</td>\n",
              "      <td>2022-04-01</td>\n",
              "      <td>C</td>\n",
              "      <td>ABCB4</td>\n",
              "      <td>STDE</td>\n",
              "      <td>1360</td>\n",
              "      <td>15.877823</td>\n",
              "      <td>-21593.839081</td>\n",
              "      <td>2022-04-01 00:00:00</td>\n",
              "      <td>AV</td>\n",
              "    </tr>\n",
              "    <tr>\n",
              "      <th>2</th>\n",
              "      <td>Cliente 10</td>\n",
              "      <td>2022-04-01</td>\n",
              "      <td>C</td>\n",
              "      <td>ABCB4</td>\n",
              "      <td>STDE</td>\n",
              "      <td>1755</td>\n",
              "      <td>15.513208</td>\n",
              "      <td>-27225.680443</td>\n",
              "      <td>2022-04-01 00:00:00</td>\n",
              "      <td>AV</td>\n",
              "    </tr>\n",
              "    <tr>\n",
              "      <th>3</th>\n",
              "      <td>Cliente 10</td>\n",
              "      <td>2022-04-01</td>\n",
              "      <td>C</td>\n",
              "      <td>ABCB4</td>\n",
              "      <td>STDE</td>\n",
              "      <td>1567</td>\n",
              "      <td>15.668920</td>\n",
              "      <td>-24553.197402</td>\n",
              "      <td>2022-04-01 00:00:00</td>\n",
              "      <td>AV</td>\n",
              "    </tr>\n",
              "    <tr>\n",
              "      <th>4</th>\n",
              "      <td>Cliente 10</td>\n",
              "      <td>2022-04-01</td>\n",
              "      <td>C</td>\n",
              "      <td>ABCB4</td>\n",
              "      <td>STDE</td>\n",
              "      <td>1271</td>\n",
              "      <td>15.604854</td>\n",
              "      <td>-19833.769940</td>\n",
              "      <td>2022-04-01 00:00:00</td>\n",
              "      <td>AV</td>\n",
              "    </tr>\n",
              "  </tbody>\n",
              "</table>\n",
              "</div>\n",
              "    <div class=\"colab-df-buttons\">\n",
              "\n",
              "  <div class=\"colab-df-container\">\n",
              "    <button class=\"colab-df-convert\" onclick=\"convertToInteractive('df-0be11d90-4024-43c7-a818-8e6a0e62ea93')\"\n",
              "            title=\"Convert this dataframe to an interactive table.\"\n",
              "            style=\"display:none;\">\n",
              "\n",
              "  <svg xmlns=\"http://www.w3.org/2000/svg\" height=\"24px\" viewBox=\"0 -960 960 960\">\n",
              "    <path d=\"M120-120v-720h720v720H120Zm60-500h600v-160H180v160Zm220 220h160v-160H400v160Zm0 220h160v-160H400v160ZM180-400h160v-160H180v160Zm440 0h160v-160H620v160ZM180-180h160v-160H180v160Zm440 0h160v-160H620v160Z\"/>\n",
              "  </svg>\n",
              "    </button>\n",
              "\n",
              "  <style>\n",
              "    .colab-df-container {\n",
              "      display:flex;\n",
              "      gap: 12px;\n",
              "    }\n",
              "\n",
              "    .colab-df-convert {\n",
              "      background-color: #E8F0FE;\n",
              "      border: none;\n",
              "      border-radius: 50%;\n",
              "      cursor: pointer;\n",
              "      display: none;\n",
              "      fill: #1967D2;\n",
              "      height: 32px;\n",
              "      padding: 0 0 0 0;\n",
              "      width: 32px;\n",
              "    }\n",
              "\n",
              "    .colab-df-convert:hover {\n",
              "      background-color: #E2EBFA;\n",
              "      box-shadow: 0px 1px 2px rgba(60, 64, 67, 0.3), 0px 1px 3px 1px rgba(60, 64, 67, 0.15);\n",
              "      fill: #174EA6;\n",
              "    }\n",
              "\n",
              "    .colab-df-buttons div {\n",
              "      margin-bottom: 4px;\n",
              "    }\n",
              "\n",
              "    [theme=dark] .colab-df-convert {\n",
              "      background-color: #3B4455;\n",
              "      fill: #D2E3FC;\n",
              "    }\n",
              "\n",
              "    [theme=dark] .colab-df-convert:hover {\n",
              "      background-color: #434B5C;\n",
              "      box-shadow: 0px 1px 3px 1px rgba(0, 0, 0, 0.15);\n",
              "      filter: drop-shadow(0px 1px 2px rgba(0, 0, 0, 0.3));\n",
              "      fill: #FFFFFF;\n",
              "    }\n",
              "  </style>\n",
              "\n",
              "    <script>\n",
              "      const buttonEl =\n",
              "        document.querySelector('#df-0be11d90-4024-43c7-a818-8e6a0e62ea93 button.colab-df-convert');\n",
              "      buttonEl.style.display =\n",
              "        google.colab.kernel.accessAllowed ? 'block' : 'none';\n",
              "\n",
              "      async function convertToInteractive(key) {\n",
              "        const element = document.querySelector('#df-0be11d90-4024-43c7-a818-8e6a0e62ea93');\n",
              "        const dataTable =\n",
              "          await google.colab.kernel.invokeFunction('convertToInteractive',\n",
              "                                                    [key], {});\n",
              "        if (!dataTable) return;\n",
              "\n",
              "        const docLinkHtml = 'Like what you see? Visit the ' +\n",
              "          '<a target=\"_blank\" href=https://colab.research.google.com/notebooks/data_table.ipynb>data table notebook</a>'\n",
              "          + ' to learn more about interactive tables.';\n",
              "        element.innerHTML = '';\n",
              "        dataTable['output_type'] = 'display_data';\n",
              "        await google.colab.output.renderOutput(dataTable, element);\n",
              "        const docLink = document.createElement('div');\n",
              "        docLink.innerHTML = docLinkHtml;\n",
              "        element.appendChild(docLink);\n",
              "      }\n",
              "    </script>\n",
              "  </div>\n",
              "\n",
              "\n",
              "<div id=\"df-029b6ff1-9c74-4b1e-af0d-f48aa445f087\">\n",
              "  <button class=\"colab-df-quickchart\" onclick=\"quickchart('df-029b6ff1-9c74-4b1e-af0d-f48aa445f087')\"\n",
              "            title=\"Suggest charts\"\n",
              "            style=\"display:none;\">\n",
              "\n",
              "<svg xmlns=\"http://www.w3.org/2000/svg\" height=\"24px\"viewBox=\"0 0 24 24\"\n",
              "     width=\"24px\">\n",
              "    <g>\n",
              "        <path d=\"M19 3H5c-1.1 0-2 .9-2 2v14c0 1.1.9 2 2 2h14c1.1 0 2-.9 2-2V5c0-1.1-.9-2-2-2zM9 17H7v-7h2v7zm4 0h-2V7h2v10zm4 0h-2v-4h2v4z\"/>\n",
              "    </g>\n",
              "</svg>\n",
              "  </button>\n",
              "\n",
              "<style>\n",
              "  .colab-df-quickchart {\n",
              "      --bg-color: #E8F0FE;\n",
              "      --fill-color: #1967D2;\n",
              "      --hover-bg-color: #E2EBFA;\n",
              "      --hover-fill-color: #174EA6;\n",
              "      --disabled-fill-color: #AAA;\n",
              "      --disabled-bg-color: #DDD;\n",
              "  }\n",
              "\n",
              "  [theme=dark] .colab-df-quickchart {\n",
              "      --bg-color: #3B4455;\n",
              "      --fill-color: #D2E3FC;\n",
              "      --hover-bg-color: #434B5C;\n",
              "      --hover-fill-color: #FFFFFF;\n",
              "      --disabled-bg-color: #3B4455;\n",
              "      --disabled-fill-color: #666;\n",
              "  }\n",
              "\n",
              "  .colab-df-quickchart {\n",
              "    background-color: var(--bg-color);\n",
              "    border: none;\n",
              "    border-radius: 50%;\n",
              "    cursor: pointer;\n",
              "    display: none;\n",
              "    fill: var(--fill-color);\n",
              "    height: 32px;\n",
              "    padding: 0;\n",
              "    width: 32px;\n",
              "  }\n",
              "\n",
              "  .colab-df-quickchart:hover {\n",
              "    background-color: var(--hover-bg-color);\n",
              "    box-shadow: 0 1px 2px rgba(60, 64, 67, 0.3), 0 1px 3px 1px rgba(60, 64, 67, 0.15);\n",
              "    fill: var(--button-hover-fill-color);\n",
              "  }\n",
              "\n",
              "  .colab-df-quickchart-complete:disabled,\n",
              "  .colab-df-quickchart-complete:disabled:hover {\n",
              "    background-color: var(--disabled-bg-color);\n",
              "    fill: var(--disabled-fill-color);\n",
              "    box-shadow: none;\n",
              "  }\n",
              "\n",
              "  .colab-df-spinner {\n",
              "    border: 2px solid var(--fill-color);\n",
              "    border-color: transparent;\n",
              "    border-bottom-color: var(--fill-color);\n",
              "    animation:\n",
              "      spin 1s steps(1) infinite;\n",
              "  }\n",
              "\n",
              "  @keyframes spin {\n",
              "    0% {\n",
              "      border-color: transparent;\n",
              "      border-bottom-color: var(--fill-color);\n",
              "      border-left-color: var(--fill-color);\n",
              "    }\n",
              "    20% {\n",
              "      border-color: transparent;\n",
              "      border-left-color: var(--fill-color);\n",
              "      border-top-color: var(--fill-color);\n",
              "    }\n",
              "    30% {\n",
              "      border-color: transparent;\n",
              "      border-left-color: var(--fill-color);\n",
              "      border-top-color: var(--fill-color);\n",
              "      border-right-color: var(--fill-color);\n",
              "    }\n",
              "    40% {\n",
              "      border-color: transparent;\n",
              "      border-right-color: var(--fill-color);\n",
              "      border-top-color: var(--fill-color);\n",
              "    }\n",
              "    60% {\n",
              "      border-color: transparent;\n",
              "      border-right-color: var(--fill-color);\n",
              "    }\n",
              "    80% {\n",
              "      border-color: transparent;\n",
              "      border-right-color: var(--fill-color);\n",
              "      border-bottom-color: var(--fill-color);\n",
              "    }\n",
              "    90% {\n",
              "      border-color: transparent;\n",
              "      border-bottom-color: var(--fill-color);\n",
              "    }\n",
              "  }\n",
              "</style>\n",
              "\n",
              "  <script>\n",
              "    async function quickchart(key) {\n",
              "      const quickchartButtonEl =\n",
              "        document.querySelector('#' + key + ' button');\n",
              "      quickchartButtonEl.disabled = true;  // To prevent multiple clicks.\n",
              "      quickchartButtonEl.classList.add('colab-df-spinner');\n",
              "      try {\n",
              "        const charts = await google.colab.kernel.invokeFunction(\n",
              "            'suggestCharts', [key], {});\n",
              "      } catch (error) {\n",
              "        console.error('Error during call to suggestCharts:', error);\n",
              "      }\n",
              "      quickchartButtonEl.classList.remove('colab-df-spinner');\n",
              "      quickchartButtonEl.classList.add('colab-df-quickchart-complete');\n",
              "    }\n",
              "    (() => {\n",
              "      let quickchartButtonEl =\n",
              "        document.querySelector('#df-029b6ff1-9c74-4b1e-af0d-f48aa445f087 button');\n",
              "      quickchartButtonEl.style.display =\n",
              "        google.colab.kernel.accessAllowed ? 'block' : 'none';\n",
              "    })();\n",
              "  </script>\n",
              "</div>\n",
              "    </div>\n",
              "  </div>\n"
            ],
            "text/plain": [
              "  Cód. Cliente Dt. Operação Tipo Operação Cód. Título Cód. Corretora  \\\n",
              "0   Cliente 10   2022-04-01             C       ABCB4           STDE   \n",
              "1   Cliente 10   2022-04-01             C       ABCB4           STDE   \n",
              "2   Cliente 10   2022-04-01             C       ABCB4           STDE   \n",
              "3   Cliente 10   2022-04-01             C       ABCB4           STDE   \n",
              "4   Cliente 10   2022-04-01             C       ABCB4           STDE   \n",
              "\n",
              "   Quantidade      Preço  Valor Líquido           Vencimento Tipo  \n",
              "0        1236  15.560009  -19232.170609  2022-04-01 00:00:00   AV  \n",
              "1        1360  15.877823  -21593.839081  2022-04-01 00:00:00   AV  \n",
              "2        1755  15.513208  -27225.680443  2022-04-01 00:00:00   AV  \n",
              "3        1567  15.668920  -24553.197402  2022-04-01 00:00:00   AV  \n",
              "4        1271  15.604854  -19833.769940  2022-04-01 00:00:00   AV  "
            ]
          },
          "execution_count": 17,
          "metadata": {},
          "output_type": "execute_result"
        }
      ],
      "source": [
        "df_compra.head()"
      ]
    },
    {
      "cell_type": "code",
      "execution_count": null,
      "metadata": {
        "id": "FwcdAGgV0Os-"
      },
      "outputs": [],
      "source": [
        "df_compra['Dt. Operação'] = pd.to_datetime(df_compra['Dt. Operação']).dt.date\n",
        "df_compra['Vencimento'] = pd.to_datetime(df_compra['Vencimento']).dt.date"
      ]
    },
    {
      "cell_type": "code",
      "execution_count": null,
      "metadata": {
        "id": "ipgh5Bl8068P"
      },
      "outputs": [],
      "source": [
        "df_venda = pd.concat([df_venda2022, df_venda2023])\n",
        "df_venda['Dt. Operação'] = pd.to_datetime(df_venda['Dt. Operação'], unit='D', origin='1899-12-30')\n",
        "df_venda['Vencimento'] = pd.to_datetime(df_venda['Vencimento'], unit='D', origin='1899-12-30')"
      ]
    },
    {
      "cell_type": "code",
      "execution_count": null,
      "metadata": {
        "id": "BTLDYOH40182"
      },
      "outputs": [],
      "source": [
        "df_venda['Dt. Operação'] = pd.to_datetime(df_venda['Dt. Operação']).dt.date\n",
        "df_venda['Vencimento'] = pd.to_datetime(df_venda['Vencimento']).dt.date"
      ]
    },
    {
      "cell_type": "markdown",
      "metadata": {
        "id": "gebc52yh0r8F"
      },
      "source": [
        "## Verificação de valores nulos"
      ]
    },
    {
      "cell_type": "code",
      "execution_count": null,
      "metadata": {
        "colab": {
          "base_uri": "https://localhost:8080/"
        },
        "id": "4nmwZ6pj1ArM",
        "outputId": "dd48b602-81bf-463e-c079-4f762bb3b055"
      },
      "outputs": [
        {
          "data": {
            "text/plain": [
              "Cód. Cliente      0\n",
              "Dt. Operação      0\n",
              "Tipo Operação     0\n",
              "Cód. Título       0\n",
              "Cód. Corretora    0\n",
              "Quantidade        0\n",
              "Preço             0\n",
              "Valor Líquido     0\n",
              "Vencimento        0\n",
              "Tipo              0\n",
              "dtype: int64"
            ]
          },
          "execution_count": 25,
          "metadata": {},
          "output_type": "execute_result"
        }
      ],
      "source": [
        "df_compra.isnull().sum()"
      ]
    },
    {
      "cell_type": "code",
      "execution_count": null,
      "metadata": {
        "colab": {
          "base_uri": "https://localhost:8080/"
        },
        "id": "bKUI882H1Es-",
        "outputId": "2244e8f7-17cc-4424-de27-38e6f9945783"
      },
      "outputs": [
        {
          "data": {
            "text/plain": [
              "Chave             0\n",
              "Cód. Cliente      0\n",
              "Dt. Operação      0\n",
              "Tipo Operação     0\n",
              "Cód. Título       0\n",
              "Cód. Corretora    0\n",
              "Quantidade        0\n",
              "Preço             0\n",
              "Valor Líquido     0\n",
              "Vencimento        0\n",
              "Tipo              0\n",
              "DI                0\n",
              "dtype: int64"
            ]
          },
          "execution_count": 26,
          "metadata": {},
          "output_type": "execute_result"
        }
      ],
      "source": [
        "df_venda.isnull().sum()"
      ]
    },
    {
      "cell_type": "markdown",
      "metadata": {
        "id": "e-DmyG-J1Hvq"
      },
      "source": [
        "## Remoção de Casamentos Determinísticos"
      ]
    },
    {
      "cell_type": "markdown",
      "metadata": {
        "id": "y68xHLC81J86"
      },
      "source": [
        "Visando evitar vícios no modelo, é necessário retirar os casos em que somente há uma ação a termo para uma combinação da mesma quantidade de ações à vista, sendo esses os casos determinísticos."
      ]
    },
    {
      "cell_type": "code",
      "execution_count": null,
      "metadata": {
        "id": "E6LbbrZt1Wvx"
      },
      "outputs": [],
      "source": [
        "df_ocorrencias_unicas = df_venda.groupby(['Cód. Cliente', 'Dt. Operação', 'Cód. Título', 'Cód. Corretora']).size().reset_index(name='Quantidade de Ocorrências')\n",
        "df_ocorrencias_unicas_igual_1 = df_ocorrencias_unicas[df_ocorrencias_unicas['Quantidade de Ocorrências'] == 1]\n",
        "df_ocorrencias_unicas_igual_1 = pd.merge(df_ocorrencias_unicas_igual_1, df_venda[['Cód. Cliente', 'Dt. Operação', 'Cód. Título', 'Cód. Corretora', 'Quantidade']],\n",
        "                       on=['Cód. Cliente', 'Dt. Operação', 'Cód. Título', 'Cód. Corretora'], how='left')\n",
        "df_ocorrencias_unicas_igual_1 = df_ocorrencias_unicas_igual_1.drop(columns='Quantidade de Ocorrências')\n",
        "df_ocorrencias_unicas_igual_1['Dt. Operação'] = pd.to_datetime(df_ocorrencias_unicas_igual_1['Dt. Operação']).dt.date\n",
        "\n"
      ]
    },
    {
      "cell_type": "code",
      "execution_count": null,
      "metadata": {
        "colab": {
          "base_uri": "https://localhost:8080/"
        },
        "id": "GNy6orm91aoy",
        "outputId": "8f21bc8f-dc97-4dd0-b8d4-4fb86029bd6b"
      },
      "outputs": [
        {
          "output_type": "stream",
          "name": "stderr",
          "text": [
            "<ipython-input-15-7a2a4dd93369>:2: SettingWithCopyWarning: \n",
            "A value is trying to be set on a copy of a slice from a DataFrame.\n",
            "Try using .loc[row_indexer,col_indexer] = value instead\n",
            "\n",
            "See the caveats in the documentation: https://pandas.pydata.org/pandas-docs/stable/user_guide/indexing.html#returning-a-view-versus-a-copy\n",
            "  df_compra_deterministica['Dt. Operação'] = pd.to_datetime(df_compra_deterministica['Dt. Operação']).dt.date\n"
          ]
        }
      ],
      "source": [
        "df_compra_deterministica = df_compra[['Cód. Cliente', 'Dt. Operação', 'Cód. Título', 'Cód. Corretora', 'Quantidade']]\n",
        "df_compra_deterministica['Dt. Operação'] = pd.to_datetime(df_compra_deterministica['Dt. Operação']).dt.date\n",
        "df_compra_deterministica = pd.merge(df_compra_deterministica, df_ocorrencias_unicas_igual_1, on=['Cód. Cliente', 'Dt. Operação', 'Cód. Título', 'Cód. Corretora'], how='inner')\n"
      ]
    },
    {
      "cell_type": "code",
      "execution_count": null,
      "metadata": {
        "id": "7FTC3wzH1yK2"
      },
      "outputs": [],
      "source": [
        "soma_quantidade_compra = df_compra_deterministica.groupby(['Cód. Cliente', 'Dt. Operação', 'Cód. Título', 'Cód. Corretora', 'Quantidade_y'])['Quantidade_x'].sum().reset_index()\n",
        "soma_quantidade_compra['Dt. Operação'] = pd.to_datetime(soma_quantidade_compra['Dt. Operação'])"
      ]
    },
    {
      "cell_type": "code",
      "execution_count": null,
      "metadata": {
        "colab": {
          "base_uri": "https://localhost:8080/"
        },
        "id": "6diQ97kU1qI2",
        "outputId": "1cdb10f8-c213-4a2e-cdaf-38a96a1b676d"
      },
      "outputs": [
        {
          "output_type": "stream",
          "name": "stderr",
          "text": [
            "<ipython-input-17-ed08a85c07c4>:2: SettingWithCopyWarning: \n",
            "A value is trying to be set on a copy of a slice from a DataFrame.\n",
            "Try using .loc[row_indexer,col_indexer] = value instead\n",
            "\n",
            "See the caveats in the documentation: https://pandas.pydata.org/pandas-docs/stable/user_guide/indexing.html#returning-a-view-versus-a-copy\n",
            "  df_2023['Quantidade_x'] = df_2023['Quantidade_x'] - df_2023['Quantidade_y']\n"
          ]
        }
      ],
      "source": [
        "df_2023 = soma_quantidade_compra[soma_quantidade_compra['Dt. Operação'].dt.year == 2023]\n",
        "df_2023['Quantidade_x'] = df_2023['Quantidade_x'] - df_2023['Quantidade_y']\n",
        "soma_quantidade_compra = soma_quantidade_compra[~(soma_quantidade_compra['Dt. Operação'].dt.year == 2023)]\n",
        "soma_quantidade_compra = pd.concat([soma_quantidade_compra, df_2023], ignore_index=True)"
      ]
    },
    {
      "cell_type": "markdown",
      "metadata": {
        "id": "e8-tz2Kn54XU"
      },
      "source": [
        "## Calculo de dias úteis"
      ]
    },
    {
      "cell_type": "code",
      "execution_count": null,
      "metadata": {
        "id": "y7-2F75q5USA"
      },
      "outputs": [],
      "source": [
        "import pandas as pd\n",
        "df_venda['Dt. Operação'] = pd.to_datetime(df_venda['Dt. Operação'])\n",
        "df_venda['Vencimento'] = pd.to_datetime(df_venda['Vencimento'])\n",
        "\n",
        "df_venda['dias_uteis'] = df_venda.apply(lambda row: len(pd.bdate_range(row['Dt. Operação'], row['Vencimento'])), axis=1)\n",
        "\n",
        "df_venda = df_venda[df_venda['dias_uteis'] <= 252]\n"
      ]
    },
    {
      "cell_type": "code",
      "source": [
        "df_venda.head()"
      ],
      "metadata": {
        "colab": {
          "base_uri": "https://localhost:8080/",
          "height": 330
        },
        "id": "EjaQhYlL9zOd",
        "outputId": "6d1f26a5-4cbe-49cf-ce55-0fcecc07630b"
      },
      "execution_count": null,
      "outputs": [
        {
          "output_type": "execute_result",
          "data": {
            "text/plain": [
              "  Chave Cód. Cliente Dt. Operação Tipo Operação Cód. Título Cód. Corretora  \\\n",
              "2    B4   Cliente 10   2022-08-26             V       ABCB4           TERR   \n",
              "3    B5   Cliente 10   2022-05-30             V       ABEV3           MIRA   \n",
              "4    B6   Cliente 10   2022-10-19             V       AERI3           AGOR   \n",
              "5    B7   Cliente 10   2022-06-14             V       AERI3           ORAM   \n",
              "6    B8   Cliente 10   2022-12-01             V       AERI3           PACT   \n",
              "\n",
              "   Quantidade      Preço  Valor Líquido Vencimento Tipo        DI  dias_uteis  \\\n",
              "2       12907  22.506668  290493.565796 2023-03-22   TE  0.137427         149   \n",
              "3        5088  14.489812   73724.161850 2022-06-28   TE  0.128568          22   \n",
              "4      226229   1.828252  413603.522337 2023-09-01   TE  0.133300         228   \n",
              "5      113480   3.051308  346262.487914 2022-08-30   TE  0.133586          56   \n",
              "6        4404   1.385878    6103.404552 2023-04-06   TE  0.137868          91   \n",
              "\n",
              "   preco_ideal_compra  \n",
              "2               24.86  \n",
              "3               13.70  \n",
              "4                3.05  \n",
              "5                2.47  \n",
              "6                1.38  "
            ],
            "text/html": [
              "\n",
              "  <div id=\"df-cd878df3-a08a-4cbf-ad7b-45e85aa2a44f\" class=\"colab-df-container\">\n",
              "    <div>\n",
              "<style scoped>\n",
              "    .dataframe tbody tr th:only-of-type {\n",
              "        vertical-align: middle;\n",
              "    }\n",
              "\n",
              "    .dataframe tbody tr th {\n",
              "        vertical-align: top;\n",
              "    }\n",
              "\n",
              "    .dataframe thead th {\n",
              "        text-align: right;\n",
              "    }\n",
              "</style>\n",
              "<table border=\"1\" class=\"dataframe\">\n",
              "  <thead>\n",
              "    <tr style=\"text-align: right;\">\n",
              "      <th></th>\n",
              "      <th>Chave</th>\n",
              "      <th>Cód. Cliente</th>\n",
              "      <th>Dt. Operação</th>\n",
              "      <th>Tipo Operação</th>\n",
              "      <th>Cód. Título</th>\n",
              "      <th>Cód. Corretora</th>\n",
              "      <th>Quantidade</th>\n",
              "      <th>Preço</th>\n",
              "      <th>Valor Líquido</th>\n",
              "      <th>Vencimento</th>\n",
              "      <th>Tipo</th>\n",
              "      <th>DI</th>\n",
              "      <th>dias_uteis</th>\n",
              "      <th>preco_ideal_compra</th>\n",
              "    </tr>\n",
              "  </thead>\n",
              "  <tbody>\n",
              "    <tr>\n",
              "      <th>2</th>\n",
              "      <td>B4</td>\n",
              "      <td>Cliente 10</td>\n",
              "      <td>2022-08-26</td>\n",
              "      <td>V</td>\n",
              "      <td>ABCB4</td>\n",
              "      <td>TERR</td>\n",
              "      <td>12907</td>\n",
              "      <td>22.506668</td>\n",
              "      <td>290493.565796</td>\n",
              "      <td>2023-03-22</td>\n",
              "      <td>TE</td>\n",
              "      <td>0.137427</td>\n",
              "      <td>149</td>\n",
              "      <td>24.86</td>\n",
              "    </tr>\n",
              "    <tr>\n",
              "      <th>3</th>\n",
              "      <td>B5</td>\n",
              "      <td>Cliente 10</td>\n",
              "      <td>2022-05-30</td>\n",
              "      <td>V</td>\n",
              "      <td>ABEV3</td>\n",
              "      <td>MIRA</td>\n",
              "      <td>5088</td>\n",
              "      <td>14.489812</td>\n",
              "      <td>73724.161850</td>\n",
              "      <td>2022-06-28</td>\n",
              "      <td>TE</td>\n",
              "      <td>0.128568</td>\n",
              "      <td>22</td>\n",
              "      <td>13.70</td>\n",
              "    </tr>\n",
              "    <tr>\n",
              "      <th>4</th>\n",
              "      <td>B6</td>\n",
              "      <td>Cliente 10</td>\n",
              "      <td>2022-10-19</td>\n",
              "      <td>V</td>\n",
              "      <td>AERI3</td>\n",
              "      <td>AGOR</td>\n",
              "      <td>226229</td>\n",
              "      <td>1.828252</td>\n",
              "      <td>413603.522337</td>\n",
              "      <td>2023-09-01</td>\n",
              "      <td>TE</td>\n",
              "      <td>0.133300</td>\n",
              "      <td>228</td>\n",
              "      <td>3.05</td>\n",
              "    </tr>\n",
              "    <tr>\n",
              "      <th>5</th>\n",
              "      <td>B7</td>\n",
              "      <td>Cliente 10</td>\n",
              "      <td>2022-06-14</td>\n",
              "      <td>V</td>\n",
              "      <td>AERI3</td>\n",
              "      <td>ORAM</td>\n",
              "      <td>113480</td>\n",
              "      <td>3.051308</td>\n",
              "      <td>346262.487914</td>\n",
              "      <td>2022-08-30</td>\n",
              "      <td>TE</td>\n",
              "      <td>0.133586</td>\n",
              "      <td>56</td>\n",
              "      <td>2.47</td>\n",
              "    </tr>\n",
              "    <tr>\n",
              "      <th>6</th>\n",
              "      <td>B8</td>\n",
              "      <td>Cliente 10</td>\n",
              "      <td>2022-12-01</td>\n",
              "      <td>V</td>\n",
              "      <td>AERI3</td>\n",
              "      <td>PACT</td>\n",
              "      <td>4404</td>\n",
              "      <td>1.385878</td>\n",
              "      <td>6103.404552</td>\n",
              "      <td>2023-04-06</td>\n",
              "      <td>TE</td>\n",
              "      <td>0.137868</td>\n",
              "      <td>91</td>\n",
              "      <td>1.38</td>\n",
              "    </tr>\n",
              "  </tbody>\n",
              "</table>\n",
              "</div>\n",
              "    <div class=\"colab-df-buttons\">\n",
              "\n",
              "  <div class=\"colab-df-container\">\n",
              "    <button class=\"colab-df-convert\" onclick=\"convertToInteractive('df-cd878df3-a08a-4cbf-ad7b-45e85aa2a44f')\"\n",
              "            title=\"Convert this dataframe to an interactive table.\"\n",
              "            style=\"display:none;\">\n",
              "\n",
              "  <svg xmlns=\"http://www.w3.org/2000/svg\" height=\"24px\" viewBox=\"0 -960 960 960\">\n",
              "    <path d=\"M120-120v-720h720v720H120Zm60-500h600v-160H180v160Zm220 220h160v-160H400v160Zm0 220h160v-160H400v160ZM180-400h160v-160H180v160Zm440 0h160v-160H620v160ZM180-180h160v-160H180v160Zm440 0h160v-160H620v160Z\"/>\n",
              "  </svg>\n",
              "    </button>\n",
              "\n",
              "  <style>\n",
              "    .colab-df-container {\n",
              "      display:flex;\n",
              "      gap: 12px;\n",
              "    }\n",
              "\n",
              "    .colab-df-convert {\n",
              "      background-color: #E8F0FE;\n",
              "      border: none;\n",
              "      border-radius: 50%;\n",
              "      cursor: pointer;\n",
              "      display: none;\n",
              "      fill: #1967D2;\n",
              "      height: 32px;\n",
              "      padding: 0 0 0 0;\n",
              "      width: 32px;\n",
              "    }\n",
              "\n",
              "    .colab-df-convert:hover {\n",
              "      background-color: #E2EBFA;\n",
              "      box-shadow: 0px 1px 2px rgba(60, 64, 67, 0.3), 0px 1px 3px 1px rgba(60, 64, 67, 0.15);\n",
              "      fill: #174EA6;\n",
              "    }\n",
              "\n",
              "    .colab-df-buttons div {\n",
              "      margin-bottom: 4px;\n",
              "    }\n",
              "\n",
              "    [theme=dark] .colab-df-convert {\n",
              "      background-color: #3B4455;\n",
              "      fill: #D2E3FC;\n",
              "    }\n",
              "\n",
              "    [theme=dark] .colab-df-convert:hover {\n",
              "      background-color: #434B5C;\n",
              "      box-shadow: 0px 1px 3px 1px rgba(0, 0, 0, 0.15);\n",
              "      filter: drop-shadow(0px 1px 2px rgba(0, 0, 0, 0.3));\n",
              "      fill: #FFFFFF;\n",
              "    }\n",
              "  </style>\n",
              "\n",
              "    <script>\n",
              "      const buttonEl =\n",
              "        document.querySelector('#df-cd878df3-a08a-4cbf-ad7b-45e85aa2a44f button.colab-df-convert');\n",
              "      buttonEl.style.display =\n",
              "        google.colab.kernel.accessAllowed ? 'block' : 'none';\n",
              "\n",
              "      async function convertToInteractive(key) {\n",
              "        const element = document.querySelector('#df-cd878df3-a08a-4cbf-ad7b-45e85aa2a44f');\n",
              "        const dataTable =\n",
              "          await google.colab.kernel.invokeFunction('convertToInteractive',\n",
              "                                                    [key], {});\n",
              "        if (!dataTable) return;\n",
              "\n",
              "        const docLinkHtml = 'Like what you see? Visit the ' +\n",
              "          '<a target=\"_blank\" href=https://colab.research.google.com/notebooks/data_table.ipynb>data table notebook</a>'\n",
              "          + ' to learn more about interactive tables.';\n",
              "        element.innerHTML = '';\n",
              "        dataTable['output_type'] = 'display_data';\n",
              "        await google.colab.output.renderOutput(dataTable, element);\n",
              "        const docLink = document.createElement('div');\n",
              "        docLink.innerHTML = docLinkHtml;\n",
              "        element.appendChild(docLink);\n",
              "      }\n",
              "    </script>\n",
              "  </div>\n",
              "\n",
              "\n",
              "<div id=\"df-302fbb50-a3b8-4931-b42b-c026a7b1425c\">\n",
              "  <button class=\"colab-df-quickchart\" onclick=\"quickchart('df-302fbb50-a3b8-4931-b42b-c026a7b1425c')\"\n",
              "            title=\"Suggest charts\"\n",
              "            style=\"display:none;\">\n",
              "\n",
              "<svg xmlns=\"http://www.w3.org/2000/svg\" height=\"24px\"viewBox=\"0 0 24 24\"\n",
              "     width=\"24px\">\n",
              "    <g>\n",
              "        <path d=\"M19 3H5c-1.1 0-2 .9-2 2v14c0 1.1.9 2 2 2h14c1.1 0 2-.9 2-2V5c0-1.1-.9-2-2-2zM9 17H7v-7h2v7zm4 0h-2V7h2v10zm4 0h-2v-4h2v4z\"/>\n",
              "    </g>\n",
              "</svg>\n",
              "  </button>\n",
              "\n",
              "<style>\n",
              "  .colab-df-quickchart {\n",
              "      --bg-color: #E8F0FE;\n",
              "      --fill-color: #1967D2;\n",
              "      --hover-bg-color: #E2EBFA;\n",
              "      --hover-fill-color: #174EA6;\n",
              "      --disabled-fill-color: #AAA;\n",
              "      --disabled-bg-color: #DDD;\n",
              "  }\n",
              "\n",
              "  [theme=dark] .colab-df-quickchart {\n",
              "      --bg-color: #3B4455;\n",
              "      --fill-color: #D2E3FC;\n",
              "      --hover-bg-color: #434B5C;\n",
              "      --hover-fill-color: #FFFFFF;\n",
              "      --disabled-bg-color: #3B4455;\n",
              "      --disabled-fill-color: #666;\n",
              "  }\n",
              "\n",
              "  .colab-df-quickchart {\n",
              "    background-color: var(--bg-color);\n",
              "    border: none;\n",
              "    border-radius: 50%;\n",
              "    cursor: pointer;\n",
              "    display: none;\n",
              "    fill: var(--fill-color);\n",
              "    height: 32px;\n",
              "    padding: 0;\n",
              "    width: 32px;\n",
              "  }\n",
              "\n",
              "  .colab-df-quickchart:hover {\n",
              "    background-color: var(--hover-bg-color);\n",
              "    box-shadow: 0 1px 2px rgba(60, 64, 67, 0.3), 0 1px 3px 1px rgba(60, 64, 67, 0.15);\n",
              "    fill: var(--button-hover-fill-color);\n",
              "  }\n",
              "\n",
              "  .colab-df-quickchart-complete:disabled,\n",
              "  .colab-df-quickchart-complete:disabled:hover {\n",
              "    background-color: var(--disabled-bg-color);\n",
              "    fill: var(--disabled-fill-color);\n",
              "    box-shadow: none;\n",
              "  }\n",
              "\n",
              "  .colab-df-spinner {\n",
              "    border: 2px solid var(--fill-color);\n",
              "    border-color: transparent;\n",
              "    border-bottom-color: var(--fill-color);\n",
              "    animation:\n",
              "      spin 1s steps(1) infinite;\n",
              "  }\n",
              "\n",
              "  @keyframes spin {\n",
              "    0% {\n",
              "      border-color: transparent;\n",
              "      border-bottom-color: var(--fill-color);\n",
              "      border-left-color: var(--fill-color);\n",
              "    }\n",
              "    20% {\n",
              "      border-color: transparent;\n",
              "      border-left-color: var(--fill-color);\n",
              "      border-top-color: var(--fill-color);\n",
              "    }\n",
              "    30% {\n",
              "      border-color: transparent;\n",
              "      border-left-color: var(--fill-color);\n",
              "      border-top-color: var(--fill-color);\n",
              "      border-right-color: var(--fill-color);\n",
              "    }\n",
              "    40% {\n",
              "      border-color: transparent;\n",
              "      border-right-color: var(--fill-color);\n",
              "      border-top-color: var(--fill-color);\n",
              "    }\n",
              "    60% {\n",
              "      border-color: transparent;\n",
              "      border-right-color: var(--fill-color);\n",
              "    }\n",
              "    80% {\n",
              "      border-color: transparent;\n",
              "      border-right-color: var(--fill-color);\n",
              "      border-bottom-color: var(--fill-color);\n",
              "    }\n",
              "    90% {\n",
              "      border-color: transparent;\n",
              "      border-bottom-color: var(--fill-color);\n",
              "    }\n",
              "  }\n",
              "</style>\n",
              "\n",
              "  <script>\n",
              "    async function quickchart(key) {\n",
              "      const quickchartButtonEl =\n",
              "        document.querySelector('#' + key + ' button');\n",
              "      quickchartButtonEl.disabled = true;  // To prevent multiple clicks.\n",
              "      quickchartButtonEl.classList.add('colab-df-spinner');\n",
              "      try {\n",
              "        const charts = await google.colab.kernel.invokeFunction(\n",
              "            'suggestCharts', [key], {});\n",
              "      } catch (error) {\n",
              "        console.error('Error during call to suggestCharts:', error);\n",
              "      }\n",
              "      quickchartButtonEl.classList.remove('colab-df-spinner');\n",
              "      quickchartButtonEl.classList.add('colab-df-quickchart-complete');\n",
              "    }\n",
              "    (() => {\n",
              "      let quickchartButtonEl =\n",
              "        document.querySelector('#df-302fbb50-a3b8-4931-b42b-c026a7b1425c button');\n",
              "      quickchartButtonEl.style.display =\n",
              "        google.colab.kernel.accessAllowed ? 'block' : 'none';\n",
              "    })();\n",
              "  </script>\n",
              "</div>\n",
              "    </div>\n",
              "  </div>\n"
            ],
            "application/vnd.google.colaboratory.intrinsic+json": {
              "type": "dataframe",
              "variable_name": "df_venda",
              "summary": "{\n  \"name\": \"df_venda\",\n  \"rows\": 45920,\n  \"fields\": [\n    {\n      \"column\": \"Chave\",\n      \"properties\": {\n        \"dtype\": \"string\",\n        \"num_unique_values\": 45920,\n        \"samples\": [\n          \"23846A\",\n          \"37709A\",\n          \"39789A\"\n        ],\n        \"semantic_type\": \"\",\n        \"description\": \"\"\n      }\n    },\n    {\n      \"column\": \"C\\u00f3d. Cliente\",\n      \"properties\": {\n        \"dtype\": \"category\",\n        \"num_unique_values\": 29,\n        \"samples\": [\n          \"Cliente 34\",\n          \"Cliente 18\",\n          \"Cliente 19\"\n        ],\n        \"semantic_type\": \"\",\n        \"description\": \"\"\n      }\n    },\n    {\n      \"column\": \"Dt. Opera\\u00e7\\u00e3o\",\n      \"properties\": {\n        \"dtype\": \"date\",\n        \"min\": \"2022-02-02 00:00:00\",\n        \"max\": \"2023-12-26 00:00:00\",\n        \"num_unique_values\": 454,\n        \"samples\": [\n          \"2023-10-09 00:00:00\",\n          \"2022-03-07 00:00:00\",\n          \"2023-04-06 00:00:00\"\n        ],\n        \"semantic_type\": \"\",\n        \"description\": \"\"\n      }\n    },\n    {\n      \"column\": \"Tipo Opera\\u00e7\\u00e3o\",\n      \"properties\": {\n        \"dtype\": \"category\",\n        \"num_unique_values\": 1,\n        \"samples\": [\n          \"V\"\n        ],\n        \"semantic_type\": \"\",\n        \"description\": \"\"\n      }\n    },\n    {\n      \"column\": \"C\\u00f3d. T\\u00edtulo\",\n      \"properties\": {\n        \"dtype\": \"category\",\n        \"num_unique_values\": 547,\n        \"samples\": [\n          \"FNCN3\"\n        ],\n        \"semantic_type\": \"\",\n        \"description\": \"\"\n      }\n    },\n    {\n      \"column\": \"C\\u00f3d. Corretora\",\n      \"properties\": {\n        \"dtype\": \"category\",\n        \"num_unique_values\": 23,\n        \"samples\": [\n          \"CONC\"\n        ],\n        \"semantic_type\": \"\",\n        \"description\": \"\"\n      }\n    },\n    {\n      \"column\": \"Quantidade\",\n      \"properties\": {\n        \"dtype\": \"number\",\n        \"std\": 44145,\n        \"min\": 1,\n        \"max\": 2640026,\n        \"num_unique_values\": 11876,\n        \"samples\": [\n          6761\n        ],\n        \"semantic_type\": \"\",\n        \"description\": \"\"\n      }\n    },\n    {\n      \"column\": \"Pre\\u00e7o\",\n      \"properties\": {\n        \"dtype\": \"number\",\n        \"std\": 51.01594220166471,\n        \"min\": 0.1684450402144772,\n        \"max\": 4199.375881656804,\n        \"num_unique_values\": 43904,\n        \"samples\": [\n          20.43525\n        ],\n        \"semantic_type\": \"\",\n        \"description\": \"\"\n      }\n    },\n    {\n      \"column\": \"Valor L\\u00edquido\",\n      \"properties\": {\n        \"dtype\": \"number\",\n        \"std\": 560048.489354988,\n        \"min\": -38.08,\n        \"max\": 39689537.19,\n        \"num_unique_values\": 43699,\n        \"samples\": [\n          200759.36\n        ],\n        \"semantic_type\": \"\",\n        \"description\": \"\"\n      }\n    },\n    {\n      \"column\": \"Vencimento\",\n      \"properties\": {\n        \"dtype\": \"date\",\n        \"min\": \"2022-02-10 00:00:00\",\n        \"max\": \"2024-10-04 00:00:00\",\n        \"num_unique_values\": 587,\n        \"samples\": [\n          \"2024-06-10 00:00:00\"\n        ],\n        \"semantic_type\": \"\",\n        \"description\": \"\"\n      }\n    },\n    {\n      \"column\": \"Tipo\",\n      \"properties\": {\n        \"dtype\": \"category\",\n        \"num_unique_values\": 1,\n        \"samples\": [\n          \"TE\"\n        ],\n        \"semantic_type\": \"\",\n        \"description\": \"\"\n      }\n    },\n    {\n      \"column\": \"DI\",\n      \"properties\": {\n        \"dtype\": \"number\",\n        \"std\": 0.007175045194563067,\n        \"min\": 0.106303970363464,\n        \"max\": 0.145745584545169,\n        \"num_unique_values\": 5530,\n        \"samples\": [\n          0.139035883127037\n        ],\n        \"semantic_type\": \"\",\n        \"description\": \"\"\n      }\n    },\n    {\n      \"column\": \"dias_uteis\",\n      \"properties\": {\n        \"dtype\": \"number\",\n        \"std\": 41,\n        \"min\": 1,\n        \"max\": 252,\n        \"num_unique_values\": 251,\n        \"samples\": [\n          222\n        ],\n        \"semantic_type\": \"\",\n        \"description\": \"\"\n      }\n    },\n    {\n      \"column\": \"preco_ideal_compra\",\n      \"properties\": {\n        \"dtype\": \"number\",\n        \"std\": 55.25412127499192,\n        \"min\": 0.12,\n        \"max\": 4878.21,\n        \"num_unique_values\": 7270,\n        \"samples\": [\n          71.91\n        ],\n        \"semantic_type\": \"\",\n        \"description\": \"\"\n      }\n    }\n  ]\n}"
            }
          },
          "metadata": {},
          "execution_count": 25
        }
      ]
    },
    {
      "cell_type": "markdown",
      "source": [
        "##Calculo do preço ideal de venda"
      ],
      "metadata": {
        "id": "kAHkE1uc_kJg"
      }
    },
    {
      "cell_type": "code",
      "source": [
        "import pandas as pd\n",
        "\n",
        "# Suponha que você tenha os dataframes df_venda e df_compra\n",
        "# 'df_venda' contém as colunas 'dias_uteis' e 'DI'\n",
        "# 'df_compra' contém a coluna 'Preço'\n",
        "df_venda_clone = df_venda.copy()\n",
        "\n",
        "def calculate_a(du, di):\n",
        "    exp = 252 / du\n",
        "    a = (di - 1) ** (1 / exp)\n",
        "    return a\n",
        "\n",
        "def calculate_pc(pmv, du, di):\n",
        "    a = calculate_a(du, di)\n",
        "    return round(abs(pmv / a - 1), 2)  # Trunca para 2 casas decimais\n",
        "\n",
        "# Adiciona uma nova coluna 'preco_ideal_compra' ao dataframe 'df_compra' com os valores calculados\n",
        "df_venda_clone['preco_ideal_venda'] = df_venda_clone.apply(lambda row: calculate_pc(row['Preço'], row['dias_uteis'], row['DI']), axis=1)\n",
        "\n"
      ],
      "metadata": {
        "id": "rTyyLh9j_uhU"
      },
      "execution_count": null,
      "outputs": []
    },
    {
      "cell_type": "code",
      "source": [
        "df_compra.head()"
      ],
      "metadata": {
        "id": "MbMAMRn8_1mY"
      },
      "execution_count": null,
      "outputs": []
    },
    {
      "cell_type": "code",
      "source": [
        "df_venda_clone.head()"
      ],
      "metadata": {
        "id": "ODTGuQzX_2Hx",
        "colab": {
          "base_uri": "https://localhost:8080/",
          "height": 330
        },
        "outputId": "0bf8e50c-a825-4939-92e3-67e2fe0f9f60"
      },
      "execution_count": null,
      "outputs": [
        {
          "output_type": "execute_result",
          "data": {
            "text/plain": [
              "  Chave Cód. Cliente Dt. Operação Tipo Operação Cód. Título Cód. Corretora  \\\n",
              "2    B4   Cliente 10   2022-08-26             V       ABCB4           TERR   \n",
              "3    B5   Cliente 10   2022-05-30             V       ABEV3           MIRA   \n",
              "4    B6   Cliente 10   2022-10-19             V       AERI3           AGOR   \n",
              "5    B7   Cliente 10   2022-06-14             V       AERI3           ORAM   \n",
              "6    B8   Cliente 10   2022-12-01             V       AERI3           PACT   \n",
              "\n",
              "   Quantidade      Preço  Valor Líquido Vencimento Tipo        DI  dias_uteis  \\\n",
              "2       12907  22.506668  290493.565796 2023-03-22   TE  0.137427         149   \n",
              "3        5088  14.489812   73724.161850 2022-06-28   TE  0.128568          22   \n",
              "4      226229   1.828252  413603.522337 2023-09-01   TE  0.133300         228   \n",
              "5      113480   3.051308  346262.487914 2022-08-30   TE  0.133586          56   \n",
              "6        4404   1.385878    6103.404552 2023-04-06   TE  0.137868          91   \n",
              "\n",
              "   preco_ideal_compra  preco_ideal_venda  \n",
              "2               24.86              24.86  \n",
              "3               13.70              13.70  \n",
              "4                3.05               3.05  \n",
              "5                2.47               2.47  \n",
              "6                1.38               1.38  "
            ],
            "text/html": [
              "\n",
              "  <div id=\"df-21ac3b2c-2fe2-4d75-8eda-13a04d0c40eb\" class=\"colab-df-container\">\n",
              "    <div>\n",
              "<style scoped>\n",
              "    .dataframe tbody tr th:only-of-type {\n",
              "        vertical-align: middle;\n",
              "    }\n",
              "\n",
              "    .dataframe tbody tr th {\n",
              "        vertical-align: top;\n",
              "    }\n",
              "\n",
              "    .dataframe thead th {\n",
              "        text-align: right;\n",
              "    }\n",
              "</style>\n",
              "<table border=\"1\" class=\"dataframe\">\n",
              "  <thead>\n",
              "    <tr style=\"text-align: right;\">\n",
              "      <th></th>\n",
              "      <th>Chave</th>\n",
              "      <th>Cód. Cliente</th>\n",
              "      <th>Dt. Operação</th>\n",
              "      <th>Tipo Operação</th>\n",
              "      <th>Cód. Título</th>\n",
              "      <th>Cód. Corretora</th>\n",
              "      <th>Quantidade</th>\n",
              "      <th>Preço</th>\n",
              "      <th>Valor Líquido</th>\n",
              "      <th>Vencimento</th>\n",
              "      <th>Tipo</th>\n",
              "      <th>DI</th>\n",
              "      <th>dias_uteis</th>\n",
              "      <th>preco_ideal_compra</th>\n",
              "      <th>preco_ideal_venda</th>\n",
              "    </tr>\n",
              "  </thead>\n",
              "  <tbody>\n",
              "    <tr>\n",
              "      <th>2</th>\n",
              "      <td>B4</td>\n",
              "      <td>Cliente 10</td>\n",
              "      <td>2022-08-26</td>\n",
              "      <td>V</td>\n",
              "      <td>ABCB4</td>\n",
              "      <td>TERR</td>\n",
              "      <td>12907</td>\n",
              "      <td>22.506668</td>\n",
              "      <td>290493.565796</td>\n",
              "      <td>2023-03-22</td>\n",
              "      <td>TE</td>\n",
              "      <td>0.137427</td>\n",
              "      <td>149</td>\n",
              "      <td>24.86</td>\n",
              "      <td>24.86</td>\n",
              "    </tr>\n",
              "    <tr>\n",
              "      <th>3</th>\n",
              "      <td>B5</td>\n",
              "      <td>Cliente 10</td>\n",
              "      <td>2022-05-30</td>\n",
              "      <td>V</td>\n",
              "      <td>ABEV3</td>\n",
              "      <td>MIRA</td>\n",
              "      <td>5088</td>\n",
              "      <td>14.489812</td>\n",
              "      <td>73724.161850</td>\n",
              "      <td>2022-06-28</td>\n",
              "      <td>TE</td>\n",
              "      <td>0.128568</td>\n",
              "      <td>22</td>\n",
              "      <td>13.70</td>\n",
              "      <td>13.70</td>\n",
              "    </tr>\n",
              "    <tr>\n",
              "      <th>4</th>\n",
              "      <td>B6</td>\n",
              "      <td>Cliente 10</td>\n",
              "      <td>2022-10-19</td>\n",
              "      <td>V</td>\n",
              "      <td>AERI3</td>\n",
              "      <td>AGOR</td>\n",
              "      <td>226229</td>\n",
              "      <td>1.828252</td>\n",
              "      <td>413603.522337</td>\n",
              "      <td>2023-09-01</td>\n",
              "      <td>TE</td>\n",
              "      <td>0.133300</td>\n",
              "      <td>228</td>\n",
              "      <td>3.05</td>\n",
              "      <td>3.05</td>\n",
              "    </tr>\n",
              "    <tr>\n",
              "      <th>5</th>\n",
              "      <td>B7</td>\n",
              "      <td>Cliente 10</td>\n",
              "      <td>2022-06-14</td>\n",
              "      <td>V</td>\n",
              "      <td>AERI3</td>\n",
              "      <td>ORAM</td>\n",
              "      <td>113480</td>\n",
              "      <td>3.051308</td>\n",
              "      <td>346262.487914</td>\n",
              "      <td>2022-08-30</td>\n",
              "      <td>TE</td>\n",
              "      <td>0.133586</td>\n",
              "      <td>56</td>\n",
              "      <td>2.47</td>\n",
              "      <td>2.47</td>\n",
              "    </tr>\n",
              "    <tr>\n",
              "      <th>6</th>\n",
              "      <td>B8</td>\n",
              "      <td>Cliente 10</td>\n",
              "      <td>2022-12-01</td>\n",
              "      <td>V</td>\n",
              "      <td>AERI3</td>\n",
              "      <td>PACT</td>\n",
              "      <td>4404</td>\n",
              "      <td>1.385878</td>\n",
              "      <td>6103.404552</td>\n",
              "      <td>2023-04-06</td>\n",
              "      <td>TE</td>\n",
              "      <td>0.137868</td>\n",
              "      <td>91</td>\n",
              "      <td>1.38</td>\n",
              "      <td>1.38</td>\n",
              "    </tr>\n",
              "  </tbody>\n",
              "</table>\n",
              "</div>\n",
              "    <div class=\"colab-df-buttons\">\n",
              "\n",
              "  <div class=\"colab-df-container\">\n",
              "    <button class=\"colab-df-convert\" onclick=\"convertToInteractive('df-21ac3b2c-2fe2-4d75-8eda-13a04d0c40eb')\"\n",
              "            title=\"Convert this dataframe to an interactive table.\"\n",
              "            style=\"display:none;\">\n",
              "\n",
              "  <svg xmlns=\"http://www.w3.org/2000/svg\" height=\"24px\" viewBox=\"0 -960 960 960\">\n",
              "    <path d=\"M120-120v-720h720v720H120Zm60-500h600v-160H180v160Zm220 220h160v-160H400v160Zm0 220h160v-160H400v160ZM180-400h160v-160H180v160Zm440 0h160v-160H620v160ZM180-180h160v-160H180v160Zm440 0h160v-160H620v160Z\"/>\n",
              "  </svg>\n",
              "    </button>\n",
              "\n",
              "  <style>\n",
              "    .colab-df-container {\n",
              "      display:flex;\n",
              "      gap: 12px;\n",
              "    }\n",
              "\n",
              "    .colab-df-convert {\n",
              "      background-color: #E8F0FE;\n",
              "      border: none;\n",
              "      border-radius: 50%;\n",
              "      cursor: pointer;\n",
              "      display: none;\n",
              "      fill: #1967D2;\n",
              "      height: 32px;\n",
              "      padding: 0 0 0 0;\n",
              "      width: 32px;\n",
              "    }\n",
              "\n",
              "    .colab-df-convert:hover {\n",
              "      background-color: #E2EBFA;\n",
              "      box-shadow: 0px 1px 2px rgba(60, 64, 67, 0.3), 0px 1px 3px 1px rgba(60, 64, 67, 0.15);\n",
              "      fill: #174EA6;\n",
              "    }\n",
              "\n",
              "    .colab-df-buttons div {\n",
              "      margin-bottom: 4px;\n",
              "    }\n",
              "\n",
              "    [theme=dark] .colab-df-convert {\n",
              "      background-color: #3B4455;\n",
              "      fill: #D2E3FC;\n",
              "    }\n",
              "\n",
              "    [theme=dark] .colab-df-convert:hover {\n",
              "      background-color: #434B5C;\n",
              "      box-shadow: 0px 1px 3px 1px rgba(0, 0, 0, 0.15);\n",
              "      filter: drop-shadow(0px 1px 2px rgba(0, 0, 0, 0.3));\n",
              "      fill: #FFFFFF;\n",
              "    }\n",
              "  </style>\n",
              "\n",
              "    <script>\n",
              "      const buttonEl =\n",
              "        document.querySelector('#df-21ac3b2c-2fe2-4d75-8eda-13a04d0c40eb button.colab-df-convert');\n",
              "      buttonEl.style.display =\n",
              "        google.colab.kernel.accessAllowed ? 'block' : 'none';\n",
              "\n",
              "      async function convertToInteractive(key) {\n",
              "        const element = document.querySelector('#df-21ac3b2c-2fe2-4d75-8eda-13a04d0c40eb');\n",
              "        const dataTable =\n",
              "          await google.colab.kernel.invokeFunction('convertToInteractive',\n",
              "                                                    [key], {});\n",
              "        if (!dataTable) return;\n",
              "\n",
              "        const docLinkHtml = 'Like what you see? Visit the ' +\n",
              "          '<a target=\"_blank\" href=https://colab.research.google.com/notebooks/data_table.ipynb>data table notebook</a>'\n",
              "          + ' to learn more about interactive tables.';\n",
              "        element.innerHTML = '';\n",
              "        dataTable['output_type'] = 'display_data';\n",
              "        await google.colab.output.renderOutput(dataTable, element);\n",
              "        const docLink = document.createElement('div');\n",
              "        docLink.innerHTML = docLinkHtml;\n",
              "        element.appendChild(docLink);\n",
              "      }\n",
              "    </script>\n",
              "  </div>\n",
              "\n",
              "\n",
              "<div id=\"df-59fa6fc3-4456-4662-8ad5-c0233e080293\">\n",
              "  <button class=\"colab-df-quickchart\" onclick=\"quickchart('df-59fa6fc3-4456-4662-8ad5-c0233e080293')\"\n",
              "            title=\"Suggest charts\"\n",
              "            style=\"display:none;\">\n",
              "\n",
              "<svg xmlns=\"http://www.w3.org/2000/svg\" height=\"24px\"viewBox=\"0 0 24 24\"\n",
              "     width=\"24px\">\n",
              "    <g>\n",
              "        <path d=\"M19 3H5c-1.1 0-2 .9-2 2v14c0 1.1.9 2 2 2h14c1.1 0 2-.9 2-2V5c0-1.1-.9-2-2-2zM9 17H7v-7h2v7zm4 0h-2V7h2v10zm4 0h-2v-4h2v4z\"/>\n",
              "    </g>\n",
              "</svg>\n",
              "  </button>\n",
              "\n",
              "<style>\n",
              "  .colab-df-quickchart {\n",
              "      --bg-color: #E8F0FE;\n",
              "      --fill-color: #1967D2;\n",
              "      --hover-bg-color: #E2EBFA;\n",
              "      --hover-fill-color: #174EA6;\n",
              "      --disabled-fill-color: #AAA;\n",
              "      --disabled-bg-color: #DDD;\n",
              "  }\n",
              "\n",
              "  [theme=dark] .colab-df-quickchart {\n",
              "      --bg-color: #3B4455;\n",
              "      --fill-color: #D2E3FC;\n",
              "      --hover-bg-color: #434B5C;\n",
              "      --hover-fill-color: #FFFFFF;\n",
              "      --disabled-bg-color: #3B4455;\n",
              "      --disabled-fill-color: #666;\n",
              "  }\n",
              "\n",
              "  .colab-df-quickchart {\n",
              "    background-color: var(--bg-color);\n",
              "    border: none;\n",
              "    border-radius: 50%;\n",
              "    cursor: pointer;\n",
              "    display: none;\n",
              "    fill: var(--fill-color);\n",
              "    height: 32px;\n",
              "    padding: 0;\n",
              "    width: 32px;\n",
              "  }\n",
              "\n",
              "  .colab-df-quickchart:hover {\n",
              "    background-color: var(--hover-bg-color);\n",
              "    box-shadow: 0 1px 2px rgba(60, 64, 67, 0.3), 0 1px 3px 1px rgba(60, 64, 67, 0.15);\n",
              "    fill: var(--button-hover-fill-color);\n",
              "  }\n",
              "\n",
              "  .colab-df-quickchart-complete:disabled,\n",
              "  .colab-df-quickchart-complete:disabled:hover {\n",
              "    background-color: var(--disabled-bg-color);\n",
              "    fill: var(--disabled-fill-color);\n",
              "    box-shadow: none;\n",
              "  }\n",
              "\n",
              "  .colab-df-spinner {\n",
              "    border: 2px solid var(--fill-color);\n",
              "    border-color: transparent;\n",
              "    border-bottom-color: var(--fill-color);\n",
              "    animation:\n",
              "      spin 1s steps(1) infinite;\n",
              "  }\n",
              "\n",
              "  @keyframes spin {\n",
              "    0% {\n",
              "      border-color: transparent;\n",
              "      border-bottom-color: var(--fill-color);\n",
              "      border-left-color: var(--fill-color);\n",
              "    }\n",
              "    20% {\n",
              "      border-color: transparent;\n",
              "      border-left-color: var(--fill-color);\n",
              "      border-top-color: var(--fill-color);\n",
              "    }\n",
              "    30% {\n",
              "      border-color: transparent;\n",
              "      border-left-color: var(--fill-color);\n",
              "      border-top-color: var(--fill-color);\n",
              "      border-right-color: var(--fill-color);\n",
              "    }\n",
              "    40% {\n",
              "      border-color: transparent;\n",
              "      border-right-color: var(--fill-color);\n",
              "      border-top-color: var(--fill-color);\n",
              "    }\n",
              "    60% {\n",
              "      border-color: transparent;\n",
              "      border-right-color: var(--fill-color);\n",
              "    }\n",
              "    80% {\n",
              "      border-color: transparent;\n",
              "      border-right-color: var(--fill-color);\n",
              "      border-bottom-color: var(--fill-color);\n",
              "    }\n",
              "    90% {\n",
              "      border-color: transparent;\n",
              "      border-bottom-color: var(--fill-color);\n",
              "    }\n",
              "  }\n",
              "</style>\n",
              "\n",
              "  <script>\n",
              "    async function quickchart(key) {\n",
              "      const quickchartButtonEl =\n",
              "        document.querySelector('#' + key + ' button');\n",
              "      quickchartButtonEl.disabled = true;  // To prevent multiple clicks.\n",
              "      quickchartButtonEl.classList.add('colab-df-spinner');\n",
              "      try {\n",
              "        const charts = await google.colab.kernel.invokeFunction(\n",
              "            'suggestCharts', [key], {});\n",
              "      } catch (error) {\n",
              "        console.error('Error during call to suggestCharts:', error);\n",
              "      }\n",
              "      quickchartButtonEl.classList.remove('colab-df-spinner');\n",
              "      quickchartButtonEl.classList.add('colab-df-quickchart-complete');\n",
              "    }\n",
              "    (() => {\n",
              "      let quickchartButtonEl =\n",
              "        document.querySelector('#df-59fa6fc3-4456-4662-8ad5-c0233e080293 button');\n",
              "      quickchartButtonEl.style.display =\n",
              "        google.colab.kernel.accessAllowed ? 'block' : 'none';\n",
              "    })();\n",
              "  </script>\n",
              "</div>\n",
              "    </div>\n",
              "  </div>\n"
            ],
            "application/vnd.google.colaboratory.intrinsic+json": {
              "type": "dataframe",
              "variable_name": "df_venda_clone",
              "summary": "{\n  \"name\": \"df_venda_clone\",\n  \"rows\": 45920,\n  \"fields\": [\n    {\n      \"column\": \"Chave\",\n      \"properties\": {\n        \"dtype\": \"string\",\n        \"num_unique_values\": 45920,\n        \"samples\": [\n          \"23846A\",\n          \"37709A\",\n          \"39789A\"\n        ],\n        \"semantic_type\": \"\",\n        \"description\": \"\"\n      }\n    },\n    {\n      \"column\": \"C\\u00f3d. Cliente\",\n      \"properties\": {\n        \"dtype\": \"category\",\n        \"num_unique_values\": 29,\n        \"samples\": [\n          \"Cliente 34\",\n          \"Cliente 18\",\n          \"Cliente 19\"\n        ],\n        \"semantic_type\": \"\",\n        \"description\": \"\"\n      }\n    },\n    {\n      \"column\": \"Dt. Opera\\u00e7\\u00e3o\",\n      \"properties\": {\n        \"dtype\": \"date\",\n        \"min\": \"2022-02-02 00:00:00\",\n        \"max\": \"2023-12-26 00:00:00\",\n        \"num_unique_values\": 454,\n        \"samples\": [\n          \"2023-10-09 00:00:00\",\n          \"2022-03-07 00:00:00\",\n          \"2023-04-06 00:00:00\"\n        ],\n        \"semantic_type\": \"\",\n        \"description\": \"\"\n      }\n    },\n    {\n      \"column\": \"Tipo Opera\\u00e7\\u00e3o\",\n      \"properties\": {\n        \"dtype\": \"category\",\n        \"num_unique_values\": 1,\n        \"samples\": [\n          \"V\"\n        ],\n        \"semantic_type\": \"\",\n        \"description\": \"\"\n      }\n    },\n    {\n      \"column\": \"C\\u00f3d. T\\u00edtulo\",\n      \"properties\": {\n        \"dtype\": \"category\",\n        \"num_unique_values\": 547,\n        \"samples\": [\n          \"FNCN3\"\n        ],\n        \"semantic_type\": \"\",\n        \"description\": \"\"\n      }\n    },\n    {\n      \"column\": \"C\\u00f3d. Corretora\",\n      \"properties\": {\n        \"dtype\": \"category\",\n        \"num_unique_values\": 23,\n        \"samples\": [\n          \"CONC\"\n        ],\n        \"semantic_type\": \"\",\n        \"description\": \"\"\n      }\n    },\n    {\n      \"column\": \"Quantidade\",\n      \"properties\": {\n        \"dtype\": \"number\",\n        \"std\": 44145,\n        \"min\": 1,\n        \"max\": 2640026,\n        \"num_unique_values\": 11876,\n        \"samples\": [\n          6761\n        ],\n        \"semantic_type\": \"\",\n        \"description\": \"\"\n      }\n    },\n    {\n      \"column\": \"Pre\\u00e7o\",\n      \"properties\": {\n        \"dtype\": \"number\",\n        \"std\": 51.01594220166471,\n        \"min\": 0.1684450402144772,\n        \"max\": 4199.375881656804,\n        \"num_unique_values\": 43904,\n        \"samples\": [\n          20.43525\n        ],\n        \"semantic_type\": \"\",\n        \"description\": \"\"\n      }\n    },\n    {\n      \"column\": \"Valor L\\u00edquido\",\n      \"properties\": {\n        \"dtype\": \"number\",\n        \"std\": 560048.489354988,\n        \"min\": -38.08,\n        \"max\": 39689537.19,\n        \"num_unique_values\": 43699,\n        \"samples\": [\n          200759.36\n        ],\n        \"semantic_type\": \"\",\n        \"description\": \"\"\n      }\n    },\n    {\n      \"column\": \"Vencimento\",\n      \"properties\": {\n        \"dtype\": \"date\",\n        \"min\": \"2022-02-10 00:00:00\",\n        \"max\": \"2024-10-04 00:00:00\",\n        \"num_unique_values\": 587,\n        \"samples\": [\n          \"2024-06-10 00:00:00\"\n        ],\n        \"semantic_type\": \"\",\n        \"description\": \"\"\n      }\n    },\n    {\n      \"column\": \"Tipo\",\n      \"properties\": {\n        \"dtype\": \"category\",\n        \"num_unique_values\": 1,\n        \"samples\": [\n          \"TE\"\n        ],\n        \"semantic_type\": \"\",\n        \"description\": \"\"\n      }\n    },\n    {\n      \"column\": \"DI\",\n      \"properties\": {\n        \"dtype\": \"number\",\n        \"std\": 0.007175045194563067,\n        \"min\": 0.106303970363464,\n        \"max\": 0.145745584545169,\n        \"num_unique_values\": 5530,\n        \"samples\": [\n          0.139035883127037\n        ],\n        \"semantic_type\": \"\",\n        \"description\": \"\"\n      }\n    },\n    {\n      \"column\": \"dias_uteis\",\n      \"properties\": {\n        \"dtype\": \"number\",\n        \"std\": 41,\n        \"min\": 1,\n        \"max\": 252,\n        \"num_unique_values\": 251,\n        \"samples\": [\n          222\n        ],\n        \"semantic_type\": \"\",\n        \"description\": \"\"\n      }\n    },\n    {\n      \"column\": \"preco_ideal_compra\",\n      \"properties\": {\n        \"dtype\": \"number\",\n        \"std\": 55.25412127499192,\n        \"min\": 0.12,\n        \"max\": 4878.21,\n        \"num_unique_values\": 7270,\n        \"samples\": [\n          71.91\n        ],\n        \"semantic_type\": \"\",\n        \"description\": \"\"\n      }\n    },\n    {\n      \"column\": \"preco_ideal_venda\",\n      \"properties\": {\n        \"dtype\": \"number\",\n        \"std\": 55.25412127499192,\n        \"min\": 0.12,\n        \"max\": 4878.21,\n        \"num_unique_values\": 7270,\n        \"samples\": [\n          71.91\n        ],\n        \"semantic_type\": \"\",\n        \"description\": \"\"\n      }\n    }\n  ]\n}"
            }
          },
          "metadata": {},
          "execution_count": 30
        }
      ]
    },
    {
      "cell_type": "code",
      "source": [
        "df_venda_clone.to_excel(\"df_venda.xlsx\", index=False)"
      ],
      "metadata": {
        "id": "pxdfd1zS137E"
      },
      "execution_count": null,
      "outputs": []
    },
    {
      "cell_type": "code",
      "source": [
        "from google.colab import files\n",
        "files.download(\"df_venda.xlsx\")"
      ],
      "metadata": {
        "colab": {
          "base_uri": "https://localhost:8080/",
          "height": 17
        },
        "id": "59jkRpcE16e4",
        "outputId": "37336e06-77e9-412f-d5bb-b029aa726ec5"
      },
      "execution_count": null,
      "outputs": [
        {
          "output_type": "display_data",
          "data": {
            "text/plain": [
              "<IPython.core.display.Javascript object>"
            ],
            "application/javascript": [
              "\n",
              "    async function download(id, filename, size) {\n",
              "      if (!google.colab.kernel.accessAllowed) {\n",
              "        return;\n",
              "      }\n",
              "      const div = document.createElement('div');\n",
              "      const label = document.createElement('label');\n",
              "      label.textContent = `Downloading \"${filename}\": `;\n",
              "      div.appendChild(label);\n",
              "      const progress = document.createElement('progress');\n",
              "      progress.max = size;\n",
              "      div.appendChild(progress);\n",
              "      document.body.appendChild(div);\n",
              "\n",
              "      const buffers = [];\n",
              "      let downloaded = 0;\n",
              "\n",
              "      const channel = await google.colab.kernel.comms.open(id);\n",
              "      // Send a message to notify the kernel that we're ready.\n",
              "      channel.send({})\n",
              "\n",
              "      for await (const message of channel.messages) {\n",
              "        // Send a message to notify the kernel that we're ready.\n",
              "        channel.send({})\n",
              "        if (message.buffers) {\n",
              "          for (const buffer of message.buffers) {\n",
              "            buffers.push(buffer);\n",
              "            downloaded += buffer.byteLength;\n",
              "            progress.value = downloaded;\n",
              "          }\n",
              "        }\n",
              "      }\n",
              "      const blob = new Blob(buffers, {type: 'application/binary'});\n",
              "      const a = document.createElement('a');\n",
              "      a.href = window.URL.createObjectURL(blob);\n",
              "      a.download = filename;\n",
              "      div.appendChild(a);\n",
              "      a.click();\n",
              "      div.remove();\n",
              "    }\n",
              "  "
            ]
          },
          "metadata": {}
        },
        {
          "output_type": "display_data",
          "data": {
            "text/plain": [
              "<IPython.core.display.Javascript object>"
            ],
            "application/javascript": [
              "download(\"download_f7a5ba5b-0b37-4708-98c9-7b41cf8ed94f\", \"df_venda.xlsx\", 3881859)"
            ]
          },
          "metadata": {}
        }
      ]
    }
  ],
  "metadata": {
    "colab": {
      "provenance": []
    },
    "kernelspec": {
      "display_name": "Python 3",
      "name": "python3"
    },
    "language_info": {
      "name": "python"
    }
  },
  "nbformat": 4,
  "nbformat_minor": 0
}